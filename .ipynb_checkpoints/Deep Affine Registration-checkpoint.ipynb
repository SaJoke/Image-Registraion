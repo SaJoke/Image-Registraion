{
 "cells": [
  {
   "cell_type": "code",
   "execution_count": 1,
   "id": "10cee1bb",
   "metadata": {},
   "outputs": [],
   "source": [
    "import cv2, time\n",
    "from matplotlib import pyplot as plt\n",
    "import numpy as np\n",
    "import tensorflow as tf"
   ]
  },
  {
   "cell_type": "code",
   "execution_count": null,
   "id": "bc03b302",
   "metadata": {},
   "outputs": [],
   "source": [
    "img_shape = (128,128) #หาร 8 ลงตัว ในช่วง 0-1\n",
    "ref_img = cv2.resize(ref_img,img_shape,interpolation=cv2.INTER_CUBIC)"
   ]
  },
  {
   "cell_type": "code",
   "execution_count": 13,
   "id": "22405c16",
   "metadata": {},
   "outputs": [
    {
     "name": "stdout",
     "output_type": "stream",
     "text": [
      "Model: \"heatmap_model_new\"\n",
      "__________________________________________________________________________________________________\n",
      "Layer (type)                    Output Shape         Param #     Connected to                     \n",
      "==================================================================================================\n",
      "input_6 (InputLayer)            [(None, 128, 128, 3) 0                                            \n",
      "__________________________________________________________________________________________________\n",
      "down_stack (Functional)         [(None, 128, 128, 64 14714688    input_6[0][0]                    \n",
      "__________________________________________________________________________________________________\n",
      "up_sampling2d_2 (UpSampling2D)  multiple             0           down_stack[0][4]                 \n",
      "                                                                 conv2d_10[0][0]                  \n",
      "                                                                 conv2d_11[0][0]                  \n",
      "                                                                 conv2d_12[0][0]                  \n",
      "__________________________________________________________________________________________________\n",
      "concatenate_8 (Concatenate)     (None, 16, 16, 1024) 0           up_sampling2d_2[0][0]            \n",
      "                                                                 down_stack[0][3]                 \n",
      "__________________________________________________________________________________________________\n",
      "conv2d_10 (Conv2D)              (None, 16, 16, 256)  2359552     concatenate_8[0][0]              \n",
      "__________________________________________________________________________________________________\n",
      "concatenate_9 (Concatenate)     (None, 32, 32, 512)  0           up_sampling2d_2[1][0]            \n",
      "                                                                 down_stack[0][2]                 \n",
      "__________________________________________________________________________________________________\n",
      "conv2d_11 (Conv2D)              (None, 32, 32, 128)  589952      concatenate_9[0][0]              \n",
      "__________________________________________________________________________________________________\n",
      "concatenate_10 (Concatenate)    (None, 64, 64, 256)  0           up_sampling2d_2[2][0]            \n",
      "                                                                 down_stack[0][1]                 \n",
      "__________________________________________________________________________________________________\n",
      "conv2d_12 (Conv2D)              (None, 64, 64, 64)   147520      concatenate_10[0][0]             \n",
      "__________________________________________________________________________________________________\n",
      "concatenate_11 (Concatenate)    (None, 128, 128, 128 0           up_sampling2d_2[3][0]            \n",
      "                                                                 down_stack[0][0]                 \n",
      "__________________________________________________________________________________________________\n",
      "conv2d_13 (Conv2D)              (None, 128, 128, 32) 36896       concatenate_11[0][0]             \n",
      "__________________________________________________________________________________________________\n",
      "conv2d_14 (Conv2D)              (None, 128, 128, 1)  289         conv2d_13[0][0]                  \n",
      "==================================================================================================\n",
      "Total params: 17,848,897\n",
      "Trainable params: 3,134,209\n",
      "Non-trainable params: 14,714,688\n",
      "__________________________________________________________________________________________________\n"
     ]
    }
   ],
   "source": [
    "base_model = tf.keras.applications.vgg16.VGG16(include_top=False,input_shape=img_shape+(3,))\n",
    "\n",
    "layer_names = ['block1_conv2','block2_conv2','block3_conv3','block4_conv3','block5_conv3']\n",
    "base_model_outputs = [base_model.get_layer(name).output for name in layer_names]\n",
    "down_stack = tf.keras.Model(inputs=base_model.input, outputs=base_model_outputs,name='down_stack')\n",
    "down_stack.trainable = False\n",
    "\n",
    "inputs = tf.keras.layers.Input(shape=img_shape+(3,))\n",
    "# Downsampling through the model\n",
    "skips = down_stack(inputs)\n",
    "x = skips.pop()\n",
    "skips = skips[::-1]\n",
    "# Upsampling and establishing the skip connections\n",
    "up = tf.keras.layers.UpSampling2D(2)\n",
    "\n",
    "for skip in skips:\n",
    "    x = up(x)\n",
    "    concat = tf.keras.layers.Concatenate()\n",
    "    x = concat([x, skip])\n",
    "    x = tf.keras.layers.Conv2D(x.shape[3]/4,3,activation='relu',padding='same')(x)\n",
    "x = tf.keras.layers.Conv2D(1,3,padding='same')(x)\n",
    "\n",
    "heatmap_model_new = tf.keras.Model(inputs=inputs, outputs=x,name='heatmap_model_new')\n",
    "heatmap_model_new.summary()\n",
    "Wsave_new = heatmap_model_new.get_weights()"
   ]
  },
  {
   "cell_type": "code",
   "execution_count": 14,
   "id": "01a68895",
   "metadata": {},
   "outputs": [],
   "source": [
    "def hm_fn(h,step_t=1e-5,dc_eps=1e-2):\n",
    "    t = 0\n",
    "    step_new = step_t\n",
    "    amp = 2\n",
    "    while True:   \n",
    "        hm = tf.clip_by_value(h+t,-np.inf,0)+tf.clip_by_value(h-t,0,np.inf)\n",
    "        diff_cost = abs(tf.reduce_sum((ref_img+hm-warped_img)**2)-tf.reduce_sum((ref_img-warped_img)**2))\n",
    "        if diff_cost<dc_eps :\n",
    "            if step_new==step_t:\n",
    "                break\n",
    "            t = t_old\n",
    "            step_new/=amp\n",
    "            t+=step_new\n",
    "        else:\n",
    "            t_old = t\n",
    "            step_new*=amp\n",
    "            t+=step_new\n",
    "    return hm"
   ]
  },
  {
   "cell_type": "code",
   "execution_count": 15,
   "id": "7296686f",
   "metadata": {
    "scrolled": true
   },
   "outputs": [
    {
     "ename": "TypeError",
     "evalue": "Expected Ptr<cv::UMat> for argument 'src'",
     "output_type": "error",
     "traceback": [
      "\u001b[1;31m---------------------------------------------------------------------------\u001b[0m",
      "\u001b[1;31mTypeError\u001b[0m                                 Traceback (most recent call last)",
      "\u001b[1;32m~\\AppData\\Local\\Temp/ipykernel_14564/3219475850.py\u001b[0m in \u001b[0;36m<module>\u001b[1;34m\u001b[0m\n\u001b[0;32m     11\u001b[0m     \u001b[0mgrads_new\u001b[0m \u001b[1;33m=\u001b[0m \u001b[0mtape_new\u001b[0m\u001b[1;33m.\u001b[0m\u001b[0mgradient\u001b[0m\u001b[1;33m(\u001b[0m\u001b[0mloss_value_new\u001b[0m\u001b[1;33m,\u001b[0m \u001b[0mheatmap_model_new\u001b[0m\u001b[1;33m.\u001b[0m\u001b[0mtrainable_weights\u001b[0m\u001b[1;33m)\u001b[0m\u001b[1;33m\u001b[0m\u001b[1;33m\u001b[0m\u001b[0m\n\u001b[0;32m     12\u001b[0m     \u001b[0moptimizer\u001b[0m\u001b[1;33m.\u001b[0m\u001b[0mapply_gradients\u001b[0m\u001b[1;33m(\u001b[0m\u001b[0mzip\u001b[0m\u001b[1;33m(\u001b[0m\u001b[0mgrads_new\u001b[0m\u001b[1;33m,\u001b[0m \u001b[0mheatmap_model_new\u001b[0m\u001b[1;33m.\u001b[0m\u001b[0mtrainable_weights\u001b[0m\u001b[1;33m)\u001b[0m\u001b[1;33m)\u001b[0m\u001b[1;33m\u001b[0m\u001b[1;33m\u001b[0m\u001b[0m\n\u001b[1;32m---> 13\u001b[1;33m \u001b[0mhm\u001b[0m \u001b[1;33m=\u001b[0m \u001b[0mcv2\u001b[0m\u001b[1;33m.\u001b[0m\u001b[0mresize\u001b[0m\u001b[1;33m(\u001b[0m\u001b[0mhm_new\u001b[0m\u001b[1;33m,\u001b[0m\u001b[0mref_image\u001b[0m\u001b[1;33m.\u001b[0m\u001b[0mshape\u001b[0m\u001b[1;33m,\u001b[0m\u001b[0minterpolation\u001b[0m\u001b[1;33m=\u001b[0m\u001b[0mcv2\u001b[0m\u001b[1;33m.\u001b[0m\u001b[0mINTER_CUBIC\u001b[0m\u001b[1;33m)\u001b[0m\u001b[1;33m\u001b[0m\u001b[1;33m\u001b[0m\u001b[0m\n\u001b[0m",
      "\u001b[1;31mTypeError\u001b[0m: Expected Ptr<cv::UMat> for argument 'src'"
     ]
    }
   ],
   "source": [
    "heatmap_model_new.set_weights(Wsave_new) #reinitailize all weights\n",
    "update_h = 50\n",
    "optimizer = tf.keras.optimizers.SGD(learning_rate=1e-5)\n",
    "\n",
    "ref_img = \n",
    "warped_img = Affine(1000)\n",
    "for _ in range(20)\n",
    "    for _ in range(update_h):\n",
    "        with tf.GradientTape() as tape_new:\n",
    "            input_img_new = tf.expand_dims(tf.tile(tf.expand_dims(ref_img,-1),(1,1,3)),0)\n",
    "            h_new = tf.squeeze(heatmap_model_new(input_img_new))\n",
    "            h_new = h_new/tf.sqrt(tf.reduce_sum(h_new**2))\n",
    "            hm = hm_fn(h_new,dc_eps=1)\n",
    "            loss_value_new = tf.reduce_sum((ref_img+hm-warped_img)**2)/2\n",
    "        grads_new = tape_new.gradient(loss_value_new, heatmap_model_new.trainable_weights)\n",
    "        optimizer.apply_gradients(zip(grads_new, heatmap_model_new.trainable_weights))\n",
    "    \n",
    "    warped_img = Affine(ref_img+hm,warped_img,100 รอบ)\n",
    "\n",
    "warped_hm\n",
    "reg_img = Affine(1000+20*100)"
   ]
  },
  {
   "cell_type": "code",
   "execution_count": null,
   "id": "ff8a3353",
   "metadata": {},
   "outputs": [],
   "source": []
  }
 ],
 "metadata": {
  "kernelspec": {
   "display_name": "TensorFlow2-GPU",
   "language": "python",
   "name": "tf2"
  },
  "language_info": {
   "codemirror_mode": {
    "name": "ipython",
    "version": 3
   },
   "file_extension": ".py",
   "mimetype": "text/x-python",
   "name": "python",
   "nbconvert_exporter": "python",
   "pygments_lexer": "ipython3",
   "version": "3.7.11"
  }
 },
 "nbformat": 4,
 "nbformat_minor": 5
}
